{
 "cells": [
  {
   "cell_type": "markdown",
   "source": [
    "# 1. 1."
   ],
   "metadata": {}
  },
  {
   "cell_type": "code",
   "execution_count": 2,
   "source": [
    "import pandas as pd\n",
    "with open('inputs/advent1.txt') as f:\n",
    "    lines = f.read().splitlines()\n",
    "    \n",
    "series = pd.DataFrame(lines)\n",
    "series[0] = series[0].astype(int)\n",
    "(series < series.shift(-1)).sum()"
   ],
   "outputs": [
    {
     "output_type": "execute_result",
     "data": {
      "text/plain": [
       "0    1557\n",
       "dtype: int64"
      ]
     },
     "metadata": {},
     "execution_count": 2
    }
   ],
   "metadata": {}
  },
  {
   "cell_type": "markdown",
   "source": [
    "# 1. 2."
   ],
   "metadata": {}
  },
  {
   "cell_type": "code",
   "execution_count": 3,
   "source": [
    "series['sums'] = series[0] + series[0].shift(-1) + series[0].shift(-2)\n",
    "(series['sums'] < series['sums'].shift(-1)).sum()"
   ],
   "outputs": [
    {
     "output_type": "execute_result",
     "data": {
      "text/plain": [
       "1608"
      ]
     },
     "metadata": {},
     "execution_count": 3
    }
   ],
   "metadata": {}
  },
  {
   "cell_type": "markdown",
   "source": [
    "# 2. 1."
   ],
   "metadata": {}
  },
  {
   "cell_type": "code",
   "execution_count": 5,
   "source": [
    "df = pd.read_csv('inputs/advent2.csv', delim_whitespace=True)\n",
    "horizontal = df[df['direction'] == 'forward']['speed'].sum()\n",
    "df['speed'].astype(int)\n",
    "df.loc[df['direction'] == 'up', 'speed'] = -df['speed']\n",
    "vertical = df[(df['direction']=='up') | (df['direction']=='down')]['speed'].sum()\n",
    "horizontal * vertical"
   ],
   "outputs": [
    {
     "output_type": "execute_result",
     "data": {
      "text/plain": [
       "2039256"
      ]
     },
     "metadata": {},
     "execution_count": 5
    }
   ],
   "metadata": {}
  },
  {
   "cell_type": "markdown",
   "source": [
    "# 2.2."
   ],
   "metadata": {}
  },
  {
   "cell_type": "code",
   "execution_count": 6,
   "source": [
    "df['aim'] = df[df['direction'] != 'forward']['speed'].cumsum()\n",
    "df = df.fillna(method='ffill')\n",
    "df['del_depth'] = 0\n",
    "df.loc[df['direction'] == 'forward', 'del_depth'] = df['speed'] * df['aim']\n",
    "total_depth = df['del_depth'].sum()\n",
    "horizontal * vertical"
   ],
   "outputs": [
    {
     "output_type": "execute_result",
     "data": {
      "text/plain": [
       "2039256"
      ]
     },
     "metadata": {},
     "execution_count": 6
    }
   ],
   "metadata": {}
  },
  {
   "cell_type": "markdown",
   "source": [
    "# 3.1.\n"
   ],
   "metadata": {}
  },
  {
   "cell_type": "code",
   "execution_count": 8,
   "source": [
    "with open('inputs/advent3.txt') as f:\n",
    "    lines = f.read().splitlines()\n",
    "\n",
    "\n",
    "def count_column(lines, i):\n",
    "    counter = 0\n",
    "    for line in lines:\n",
    "            if line[i] == '1':\n",
    "                counter += 1\n",
    "    return counter\n",
    "\n",
    "def count_columns(lines):\n",
    "    N = len(lines)\n",
    "    lenght = len(lines[0])\n",
    "    results = [0 for _ in range(lenght)]\n",
    "\n",
    "    for i in range(lenght):\n",
    "        results[i] = count_column(lines, i)\n",
    "    return results, N\n",
    "\n",
    "def get_gamma_epsilon(results, N):\n",
    "    gamma = [0 for _ in range(len(results))]\n",
    "    epsilon = [0 for _ in range(len(results))]\n",
    "\n",
    "    for i, result in enumerate(results):\n",
    "        if result> (N/2):\n",
    "            gamma[i] = 1\n",
    "\n",
    "    for i in range(len(results)):\n",
    "        if gamma[i] == 1:\n",
    "            epsilon[i] = 0\n",
    "        else:\n",
    "            epsilon[i] = 1\n",
    "    return gamma, epsilon\n",
    "\n",
    "def binary_to_decimal(b):\n",
    "    result = 0\n",
    "    for i in range(len(b)-1, -1, -1):\n",
    "        if b[i] == 1:\n",
    "            result += 2**(len(b)-1-i)\n",
    "\n",
    "    return result\n",
    "\n",
    "results, N = count_columns(lines)\n",
    "g, e = get_gamma_epsilon(results, N)\n",
    "binary_to_decimal(g) * binary_to_decimal(e)"
   ],
   "outputs": [
    {
     "output_type": "execute_result",
     "data": {
      "text/plain": [
       "2583164"
      ]
     },
     "metadata": {},
     "execution_count": 8
    }
   ],
   "metadata": {}
  },
  {
   "cell_type": "markdown",
   "source": [
    "# 3.2"
   ],
   "metadata": {}
  },
  {
   "cell_type": "code",
   "execution_count": 31,
   "source": [
    "test = ['00100','11110','10110','10111','10101','01111','00111','11100','10000','11001','00010','01010']"
   ],
   "outputs": [],
   "metadata": {}
  },
  {
   "cell_type": "code",
   "execution_count": 32,
   "source": [
    "def split_by_column(lines, i, priority):\n",
    "    ones = []\n",
    "    zeros = []\n",
    "    for line in lines:\n",
    "            if line[i] == '1':\n",
    "                ones.append(line)\n",
    "            else:\n",
    "                zeros.append(line)\n",
    "\n",
    "    if priority ==1:\n",
    "        if len(ones) >= len(zeros):\n",
    "            return ones\n",
    "        else:\n",
    "            return zeros\n",
    "    if priority ==0:\n",
    "        if len(ones) >= len(zeros):\n",
    "            return zeros\n",
    "        else:\n",
    "            return ones\n",
    "\n",
    "def get_generator_rating(lines, priority):\n",
    "    N = len(lines)\n",
    "    lenght = len(lines[0])\n",
    "    for i in range(lenght):\n",
    "        lines = split_by_column(lines, i, priority)\n",
    "        if len(lines) == 1:\n",
    "            return lines\n",
    "\n",
    "oxygen = (get_generator_rating(lines, 1))\n",
    "co2 = (get_generator_rating(lines, 0))\n",
    "co2 = [int(char) for char in co2[0]]\n",
    "oxygen = [int(char) for char in oxygen[0]]\n",
    "binary_to_decimal(oxygen) * binary_to_decimal(co2)"
   ],
   "outputs": [
    {
     "output_type": "execute_result",
     "data": {
      "text/plain": [
       "2784375"
      ]
     },
     "metadata": {},
     "execution_count": 32
    }
   ],
   "metadata": {}
  },
  {
   "cell_type": "markdown",
   "source": [
    "# 4.1"
   ],
   "metadata": {}
  },
  {
   "cell_type": "code",
   "execution_count": 33,
   "source": [],
   "outputs": [
    {
     "output_type": "stream",
     "name": "stdout",
     "text": [
      "2\n"
     ]
    }
   ],
   "metadata": {}
  },
  {
   "cell_type": "code",
   "execution_count": null,
   "source": [],
   "outputs": [],
   "metadata": {}
  }
 ],
 "metadata": {
  "orig_nbformat": 4,
  "language_info": {
   "name": "python",
   "version": "3.8.10",
   "mimetype": "text/x-python",
   "codemirror_mode": {
    "name": "ipython",
    "version": 3
   },
   "pygments_lexer": "ipython3",
   "nbconvert_exporter": "python",
   "file_extension": ".py"
  },
  "kernelspec": {
   "name": "python3",
   "display_name": "Python 3.8.10 64-bit"
  },
  "interpreter": {
   "hash": "916dbcbb3f70747c44a77c7bcd40155683ae19c65e1c03b4aa3499c5328201f1"
  }
 },
 "nbformat": 4,
 "nbformat_minor": 2
}